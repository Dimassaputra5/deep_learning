{
 "cells": [
  {
   "cell_type": "code",
   "execution_count": 134,
   "id": "c8905eba-38d0-4bf4-a589-eac880f8d8ee",
   "metadata": {},
   "outputs": [],
   "source": [
    "import torch\n",
    "import pandas as pd\n",
    "import numpy as np"
   ]
  },
  {
   "cell_type": "code",
   "execution_count": 135,
   "id": "c3d4db90-ad02-4350-a157-1d57588693ba",
   "metadata": {},
   "outputs": [],
   "source": [
    "# from ucimlrepo import fetch_ucirepo \n",
    "  \n",
    "# # fetch dataset \n",
    "# cdc_diabetes_health_indicators = fetch_ucirepo(id=891) \n",
    "  \n",
    "# # data (as pandas dataframes) \n",
    "# X = cdc_diabetes_health_indicators.data.features \n",
    "# y = cdc_diabetes_health_indicators.data.targets \n",
    "  \n",
    "# # metadata \n",
    "# print(cdc_diabetes_health_indicators.metadata) \n",
    "  \n",
    "# # variable information \n",
    "# print(cdc_diabetes_health_indicators.variables) \n"
   ]
  },
  {
   "cell_type": "code",
   "execution_count": 136,
   "id": "6de6b145",
   "metadata": {},
   "outputs": [],
   "source": [
    "device = torch.device('cuda' if torch.cuda.is_available() else 'cpu')"
   ]
  },
  {
   "cell_type": "code",
   "execution_count": 137,
   "id": "22846c85",
   "metadata": {},
   "outputs": [
    {
     "name": "stdout",
     "output_type": "stream",
     "text": [
      "<class 'pandas.core.frame.DataFrame'>\n",
      "RangeIndex: 253680 entries, 0 to 253679\n",
      "Data columns (total 21 columns):\n",
      " #   Column                Non-Null Count   Dtype\n",
      "---  ------                --------------   -----\n",
      " 0   HighBP                253680 non-null  int64\n",
      " 1   HighChol              253680 non-null  int64\n",
      " 2   CholCheck             253680 non-null  int64\n",
      " 3   BMI                   253680 non-null  int64\n",
      " 4   Smoker                253680 non-null  int64\n",
      " 5   Stroke                253680 non-null  int64\n",
      " 6   HeartDiseaseorAttack  253680 non-null  int64\n",
      " 7   PhysActivity          253680 non-null  int64\n",
      " 8   Fruits                253680 non-null  int64\n",
      " 9   Veggies               253680 non-null  int64\n",
      " 10  HvyAlcoholConsump     253680 non-null  int64\n",
      " 11  AnyHealthcare         253680 non-null  int64\n",
      " 12  NoDocbcCost           253680 non-null  int64\n",
      " 13  GenHlth               253680 non-null  int64\n",
      " 14  MentHlth              253680 non-null  int64\n",
      " 15  PhysHlth              253680 non-null  int64\n",
      " 16  DiffWalk              253680 non-null  int64\n",
      " 17  Sex                   253680 non-null  int64\n",
      " 18  Age                   253680 non-null  int64\n",
      " 19  Education             253680 non-null  int64\n",
      " 20  Income                253680 non-null  int64\n",
      "dtypes: int64(21)\n",
      "memory usage: 40.6 MB\n"
     ]
    },
    {
     "data": {
      "text/plain": [
       "array([0, 1], dtype=int64)"
      ]
     },
     "execution_count": 137,
     "metadata": {},
     "output_type": "execute_result"
    }
   ],
   "source": [
    "X.info()\n",
    "y.Diabetes_binary.unique()"
   ]
  },
  {
   "cell_type": "markdown",
   "id": "b5a70eb3-005f-47bf-997f-a77bf4c38e04",
   "metadata": {},
   "source": [
    "# tensor"
   ]
  },
  {
   "cell_type": "code",
   "execution_count": 138,
   "id": "2ff4744f-f58c-4dff-b930-977cf5433d75",
   "metadata": {},
   "outputs": [],
   "source": [
    "from sklearn.model_selection import train_test_split\n",
    "from torch.utils.data import DataLoader, TensorDataset"
   ]
  },
  {
   "cell_type": "code",
   "execution_count": 139,
   "id": "99cf6dc7-025f-4201-af1c-2bba962fc4bd",
   "metadata": {},
   "outputs": [],
   "source": [
    "X_train, X_test, y_train, y_test = train_test_split(X, y, test_size=0.2, random_state=42, stratify=y.Diabetes_binary)\n",
    "X_train = X_train.values\n",
    "y_train = y_train.values\n",
    "X_test = X_test.values\n",
    "y_test = y_test.values"
   ]
  },
  {
   "cell_type": "code",
   "execution_count": 140,
   "id": "2a636135-2fcb-4aa6-a337-bd993cb6a0fa",
   "metadata": {},
   "outputs": [],
   "source": [
    "X_train = torch.tensor(X_train, dtype=torch.float32).to(device)\n",
    "y_train = torch.tensor(y_train, dtype=torch.float32).to(device)\n",
    "X_test = torch.tensor(X_test, dtype=torch.float32).to(device)\n",
    "y_test = torch.tensor(y_test, dtype=torch.float32).to(device)"
   ]
  },
  {
   "cell_type": "code",
   "execution_count": 141,
   "id": "a54cc6d6-bfa0-4a1a-937a-56b01ad05dd4",
   "metadata": {},
   "outputs": [
    {
     "name": "stdout",
     "output_type": "stream",
     "text": [
      "Train set size: 202944\n",
      "Test set size: 50736\n"
     ]
    },
    {
     "data": {
      "text/plain": [
       "torch.Size([202944, 1])"
      ]
     },
     "execution_count": 141,
     "metadata": {},
     "output_type": "execute_result"
    }
   ],
   "source": [
    "trainset = TensorDataset(X_train, y_train)\n",
    "trainloader = DataLoader(trainset, batch_size=64, shuffle=True)\n",
    "testset = TensorDataset(X_test, y_test)\n",
    "testloader = DataLoader(testset, batch_size=64, shuffle=False)\n",
    "\n",
    "print(f\"Train set size: {len(trainset)}\")\n",
    "print(f\"Test set size: {len(testset)}\")\n",
    "y_train.size()"
   ]
  },
  {
   "cell_type": "markdown",
   "id": "d7d50215-faa5-4c0d-a4c5-d0fce7de3033",
   "metadata": {},
   "source": [
    "# Model neural network"
   ]
  },
  {
   "cell_type": "code",
   "execution_count": 142,
   "id": "02bd41ba-b4f3-4c1d-884e-26ed5cf32080",
   "metadata": {},
   "outputs": [],
   "source": [
    "from torch import nn, optim"
   ]
  },
  {
   "cell_type": "code",
   "execution_count": 143,
   "id": "fcb221ed-7605-4985-9ac7-5b311ea82b4b",
   "metadata": {},
   "outputs": [
    {
     "data": {
      "text/plain": [
       "Sequential(\n",
       "  (0): Linear(in_features=21, out_features=32, bias=True)\n",
       "  (1): ReLU()\n",
       "  (2): Dropout(p=0.2, inplace=False)\n",
       "  (3): Linear(in_features=32, out_features=16, bias=True)\n",
       "  (4): ReLU()\n",
       "  (5): Dropout(p=0.2, inplace=False)\n",
       "  (6): Linear(in_features=16, out_features=8, bias=True)\n",
       "  (7): ReLU()\n",
       "  (8): Dropout(p=0.2, inplace=False)\n",
       "  (9): Linear(in_features=8, out_features=4, bias=True)\n",
       "  (10): ReLU()\n",
       "  (11): Dropout(p=0.2, inplace=False)\n",
       "  (12): Linear(in_features=4, out_features=1, bias=True)\n",
       "  (13): Sigmoid()\n",
       ")"
      ]
     },
     "execution_count": 143,
     "metadata": {},
     "output_type": "execute_result"
    }
   ],
   "source": [
    "model = nn.Sequential(\n",
    "    nn.Linear(X_train.shape[1], 32),\n",
    "    nn.ReLU(),\n",
    "    nn.Dropout(0.2),\n",
    "    nn.Linear(32, 16),\n",
    "    nn.ReLU(),\n",
    "    nn.Dropout(0.2),\n",
    "    nn.Linear(16, 8),\n",
    "    nn.ReLU(),\n",
    "    nn.Dropout(0.2),\n",
    "    nn.Linear(8, 4),\n",
    "    nn.ReLU(),\n",
    "    nn.Dropout(0.2),\n",
    "    nn.Linear(4, 1),\n",
    "    nn.Sigmoid()).to(device)\n",
    "model"
   ]
  },
  {
   "cell_type": "code",
   "execution_count": 144,
   "id": "bd9e781c-cbce-46f2-a476-de00736e1a86",
   "metadata": {},
   "outputs": [],
   "source": [
    "criterion = nn.BCELoss().to(device)"
   ]
  },
  {
   "cell_type": "code",
   "execution_count": 145,
   "id": "3ae09e40-f3d3-4f4d-a899-3e49189b9319",
   "metadata": {},
   "outputs": [],
   "source": [
    "optimizer = optim.RAdam(model.parameters(), lr=0.001)"
   ]
  },
  {
   "cell_type": "code",
   "execution_count": 146,
   "id": "be859b20",
   "metadata": {},
   "outputs": [
    {
     "data": {
      "text/plain": [
       "torch.Size([202944, 1])"
      ]
     },
     "execution_count": 146,
     "metadata": {},
     "output_type": "execute_result"
    }
   ],
   "source": [
    "trainloader.dataset.tensors[1].shape"
   ]
  },
  {
   "cell_type": "markdown",
   "id": "82b22f07-5a21-430a-834a-b712292ad6d4",
   "metadata": {},
   "source": [
    "# train loop"
   ]
  },
  {
   "cell_type": "code",
   "execution_count": null,
   "id": "1fe953d9-9886-4644-b764-8c342b29d143",
   "metadata": {},
   "outputs": [
    {
     "name": "stdout",
     "output_type": "stream",
     "text": [
      "Epoch 1/1000, Train Loss: 0.3854 - Test Loss: 0.3301"
     ]
    }
   ],
   "source": [
    "epochs = 1000\n",
    "train_cost, test_cost = [], []\n",
    "for epoch in range(epochs):\n",
    "    model.train()\n",
    "    cost = 0.0\n",
    "    for features, targets in trainloader:\n",
    "        output = model(features)\n",
    "        loss = criterion(output, targets)\n",
    "        loss.backward()\n",
    "        optimizer.step()\n",
    "        optimizer.zero_grad()\n",
    "\n",
    "        cost += loss.item() * features.size(0)\n",
    "    cost /= len(trainloader.dataset)\n",
    "    train_cost.append(cost)\n",
    "\n",
    "    with torch.no_grad():\n",
    "        model.eval()\n",
    "        tcost = 0.0\n",
    "        for features, targets in testloader:\n",
    "            output = model(features)\n",
    "            loss = criterion(output, targets)\n",
    "            tcost += loss.item() * features.size(0)\n",
    "        tcost/= len(testloader.dataset)\n",
    "        test_cost.append(tcost)\n",
    "        print(f\"\\rEpoch {epoch+1}/{epochs}, Train Loss: {train_cost[-1]:.4f} - Test Loss: {test_cost[-1]:.4f}\", end='')\n"
   ]
  },
  {
   "cell_type": "markdown",
   "id": "fefe5e89",
   "metadata": {},
   "source": [
    "# Cost History"
   ]
  },
  {
   "cell_type": "code",
   "execution_count": null,
   "id": "85a88c41",
   "metadata": {},
   "outputs": [],
   "source": [
    "test_cost"
   ]
  },
  {
   "cell_type": "code",
   "execution_count": null,
   "id": "c7078655",
   "metadata": {},
   "outputs": [
    {
     "data": {
      "image/png": "[encoded data removed]",
      "text/plain": [
       "<Figure size 640x480 with 1 Axes>"
      ]
     },
     "metadata": {},
     "output_type": "display_data"
    }
   ],
   "source": [
    "import matplotlib.pyplot as plt\n",
    "plt.plot(train_cost, label='Train Loss', linestyle='-')\n",
    "plt.plot(test_cost, label='Test Loss', linestyle='--')\n",
    "plt.xlabel('Epochs')\n",
    "plt.ylabel('Loss')\n",
    "plt.title('Training Loss Over Epochs')\n",
    "plt.legend()\n",
    "plt.show()"
   ]
  },
  {
   "cell_type": "code",
   "execution_count": null,
   "id": "b23a82f6",
   "metadata": {},
   "outputs": [],
   "source": [
    "import os "
   ]
  },
  {
   "cell_type": "code",
   "execution_count": null,
   "id": "23a67d42",
   "metadata": {},
   "outputs": [],
   "source": [
    "os.makedirs('models', exist_ok=True)"
   ]
  },
  {
   "cell_type": "code",
   "execution_count": null,
   "id": "efbbcfad",
   "metadata": {},
   "outputs": [],
   "source": [
    "torch.save(model.state_dict(), 'models/house_pred_model.pth')"
   ]
  },
  {
   "cell_type": "code",
   "execution_count": null,
   "id": "08e11e26",
   "metadata": {},
   "outputs": [],
   "source": [
    "log = {\n",
    "    'train_cost': train_cost,\n",
    "    'test_cost': test_cost,\n",
    "    'epochs': epochs,\n",
    "    'optimizer_state_dict': optimizer.state_dict()\n",
    "}\n",
    "torch.save(log, 'models/house_pred_log.pth')"
   ]
  },
  {
   "cell_type": "markdown",
   "id": "14cf9f1f",
   "metadata": {},
   "source": [
    "# Load model"
   ]
  },
  {
   "cell_type": "code",
   "execution_count": null,
   "id": "59a150f1",
   "metadata": {},
   "outputs": [],
   "source": [
    "weight = torch.load('models/house_pred_model.pth')\n",
    "model.load_state_dict(weight, map_location=torch.device('cpu'))"
   ]
  },
  {
   "cell_type": "markdown",
   "id": "8ce365e8",
   "metadata": {},
   "source": [
    "# class"
   ]
  },
  {
   "cell_type": "code",
   "execution_count": null,
   "id": "64d829bc",
   "metadata": {},
   "outputs": [],
   "source": [
    "def loop_fn(mode, dataloader, model, criterion, optimizer=None, device='cpu'):\n",
    "    \"\"\"\n",
    "    A function to run a training or testing loop for a model.\n",
    "    Args:\n",
    "        mode (str): 'train' or 'test'.\n",
    "        dataloader (DataLoader): DataLoader for the dataset.\n",
    "        model (nn.Module): The model to train or test.\n",
    "        criterion (nn.Module): Loss function.\n",
    "        optimizer (torch.optim.Optimizer, optional): Optimizer for training. Defaults to None.\n",
    "        device (str, optional): Device to run the model on ('cpu' or 'cuda'). Defaults to 'cpu'.\n",
    "    Returns:\n",
    "        list: A tuple containing the average loss and accuracy.\n",
    "    \"\"\"\n",
    "    if mode == 'train':\n",
    "        model.train()\n",
    "    elif mode == 'test':\n",
    "        model.eval()\n",
    "    cost , correct = 0.0, 0.0\n",
    "    for features, targets in dataloader:\n",
    "        features, targets = features.to(device), targets.to(device)\n",
    "        output = model(features)\n",
    "        loss = criterion(output, targets)\n",
    "\n",
    "        if mode == 'train':\n",
    "            # optimizer.zero_grad()\n",
    "            loss.backward()\n",
    "            optimizer.step()\n",
    "            optimizer.zero_grad()\n",
    "\n",
    "        cost += loss.item() * features.size(0)\n",
    "        correct += features.size(0)\n",
    "\n",
    "    cost /= len(dataloader.dataset)\n",
    "    accuracy = correct / len(dataloader.dataset)\n",
    "\n",
    "    return cost, accuracy"
   ]
  },
  {
   "cell_type": "code",
   "execution_count": null,
   "id": "30da3895",
   "metadata": {},
   "outputs": [],
   "source": [
    "class HousePredictionModel(nn.Module):\n",
    "    def __init__(self):\n",
    "        super(HousePredictionModel, self).__init__( )\n",
    "        self.model = nn.Sequential(\n",
    "            nn.Linear(X_train.shape[1], 32),\n",
    "            nn.ReLU(),\n",
    "            nn.Dropout(0.2),\n",
    "            nn.Linear(32, 16),\n",
    "            nn.ReLU(),\n",
    "            nn.Dropout(0.2),\n",
    "            nn.Linear(16, 8),\n",
    "            nn.ReLU(),\n",
    "            nn.Dropout(0.2),\n",
    "            nn.Linear(8, 4),\n",
    "            nn.ReLU(),\n",
    "            nn.Dropout(0.2),\n",
    "            nn.Linear(4, 1),\n",
    "            nn.Sigmoid()\n",
    "        )\n",
    "\n",
    "    def forward(self, x):\n",
    "        return self.model(x)"
   ]
  }
 ],
 "metadata": {
  "kernelspec": {
   "display_name": "jcopdl",
   "language": "python",
   "name": "python3"
  },
  "language_info": {
   "codemirror_mode": {
    "name": "ipython",
    "version": 3
   },
   "file_extension": ".py",
   "mimetype": "text/x-python",
   "name": "python",
   "nbconvert_exporter": "python",
   "pygments_lexer": "ipython3",
   "version": "3.9.10"
  }
 },
 "nbformat": 4,
 "nbformat_minor": 5
}
